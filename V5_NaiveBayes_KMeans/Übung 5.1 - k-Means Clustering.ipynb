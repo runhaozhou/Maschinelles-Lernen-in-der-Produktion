{
 "cells": [
  {
   "cell_type": "markdown",
   "metadata": {},
   "source": [
    "# Übung 6.1 - k-Means Clustering \n",
    "VO Maschinelles Lernen in der Produktion, WS2020/21, Moritz von Unold, Richard Lux, Felix Soest\n",
    "\n",
    "#### In diesem Notebook wird das Verfahren k-Means Clustering anhand eines Anwendungsbeispiels geübt.\n",
    "\n",
    "Im Gegensatz zur Regression und Klassifikation besteht der Datensatz für eine Clusteranalyse __nur aus Input-Parametern__. Ziel ist es den Datensatz in Klassen (Cluster) zu unterteilen.\n",
    "\n",
    "Mittels des k-Means Clusterings soll der gegebene Datensatz in möglichst homogene Klassen (Cluster) unterteilt werden. Jeder Datenpunkt (Sample) wird hierbei einer Klasse (einem Cluster) zugeordnet.\n",
    " \n",
    "### Data-Mining-Prozess:"
   ]
  },
  {
   "cell_type": "markdown",
   "metadata": {},
   "source": [
    "![Bild konnte nicht geladen werden! 1. Daten erfassen - 2. Daten erkunden - 3. Daten vorbereiten - 4. Modelle bilden - 5. Modelle validieren - 6. Modell testen](Prozess_Modellentwicklung_v2.png \"Title\")"
   ]
  },
  {
   "cell_type": "markdown",
   "metadata": {},
   "source": [
    "### 0. Bibliotheken importieren"
   ]
  },
  {
   "cell_type": "code",
   "execution_count": null,
   "metadata": {},
   "outputs": [],
   "source": [
    "# Importiere benötigte Bibliotheken\n",
    "import pandas as pd\n",
    "import numpy as np\n",
    "import matplotlib.pyplot as plt\n",
    "\n",
    "pd.options.mode.chained_assignment = None\n",
    "%matplotlib inline"
   ]
  },
  {
   "cell_type": "markdown",
   "metadata": {},
   "source": [
    "### 1. Daten erfassen - Daten importieren"
   ]
  },
  {
   "cell_type": "code",
   "execution_count": null,
   "metadata": {},
   "outputs": [],
   "source": [
    "# Erstelle eigene Zufallszahlen\n",
    "my_seed = TODO\n",
    "\n",
    "# Lade Datensatz\n",
    "df = pd.read_excel(\"Daten_Clustering.xlsx\")"
   ]
  },
  {
   "cell_type": "markdown",
   "metadata": {},
   "source": [
    "### 2. Daten erkunden"
   ]
  },
  {
   "cell_type": "code",
   "execution_count": null,
   "metadata": {},
   "outputs": [],
   "source": [
    "TODO"
   ]
  },
  {
   "cell_type": "code",
   "execution_count": null,
   "metadata": {},
   "outputs": [],
   "source": [
    "TODO"
   ]
  },
  {
   "cell_type": "code",
   "execution_count": null,
   "metadata": {},
   "outputs": [],
   "source": [
    "TODO"
   ]
  },
  {
   "cell_type": "markdown",
   "metadata": {},
   "source": [
    "### 3. Daten vorbereiten"
   ]
  },
  {
   "cell_type": "code",
   "execution_count": null,
   "metadata": {},
   "outputs": [],
   "source": [
    "# Aufteilen des Datensatzes in X und y - Nicht nötig da 'Clustering'\n",
    "X_train = df.copy(deep=True)"
   ]
  },
  {
   "cell_type": "markdown",
   "metadata": {},
   "source": [
    "### 4.1 Modell bilden - Mögliche Hyperparameter anzeigen"
   ]
  },
  {
   "cell_type": "code",
   "execution_count": null,
   "metadata": {},
   "outputs": [],
   "source": [
    "# Importieren des Modells\n",
    "from sklearn.cluster import KMeans\n",
    "\n",
    "# Ausgabe möglicher Hyperparameter\n",
    "print(\"\\n Mögliche Hyperparameter (mit Standardeinstellungen) des k-Means Clustering:\")\n",
    "KMeans().get_params()"
   ]
  },
  {
   "cell_type": "markdown",
   "metadata": {},
   "source": [
    "Beschreibung der Hyperparameter:\n",
    "https://scikit-learn.org/stable/modules/generated/sklearn.cluster.KMeans.html"
   ]
  },
  {
   "cell_type": "markdown",
   "metadata": {},
   "source": [
    "### 4.2 Modell bilden - Modell bilden"
   ]
  },
  {
   "cell_type": "code",
   "execution_count": null,
   "metadata": {},
   "outputs": [],
   "source": [
    "# Modell bilden\n",
    "kmeans = KMeans(n_clusters=TODO, init='k-means++', n_init=10, random_state=my_seed)"
   ]
  },
  {
   "cell_type": "markdown",
   "metadata": {},
   "source": [
    "### 4.3 Modell bilden - Modell trainieren"
   ]
  },
  {
   "cell_type": "code",
   "execution_count": null,
   "metadata": {},
   "outputs": [],
   "source": [
    "# Trainiere das Modell\n",
    "kmeans = kmeans.fit(X_train)"
   ]
  },
  {
   "cell_type": "code",
   "execution_count": null,
   "metadata": {},
   "outputs": [],
   "source": [
    "# Ausgabe Clusterzentren\n",
    "kmeans.cluster_centers_"
   ]
  },
  {
   "cell_type": "markdown",
   "metadata": {},
   "source": [
    "### 6.1 Modell testen & anwenden - Bewertung mittels Abstand zum Clusterzentrum\n",
    "\n",
    "Um die Qualität/Güte des Modells zu bestimmen wird der Abstand eines jeden Samples zu seinem zugehörigen Clusterzentrum berechnet. Die Summe aller Abstände je Cluster und deren Summe lässt eine Schluss auf die Güte des Clusterings zu."
   ]
  },
  {
   "cell_type": "code",
   "execution_count": null,
   "metadata": {},
   "outputs": [],
   "source": [
    "# Mittlerer quadratischer Abstand aller Punkte zum Clusterzentrum\n",
    "print(\"\\ncluster:\\t\\tMean squared distance:\\t\\tnumber of points:\")\n",
    "mean_squared_distances = []\n",
    "for i, cluster in enumerate(kmeans.cluster_centers_):\n",
    "    mask = kmeans.labels_ == i\n",
    "    mean_squared_distance = (\n",
    "        (X_train[\"x1\"][mask] - kmeans.cluster_centers_[i][0]) ** 2\n",
    "        + (X_train[\"x2\"][mask] - kmeans.cluster_centers_[i][1]) ** 2\n",
    "        + (X_train[\"x3\"][mask] - kmeans.cluster_centers_[i][2]) ** 2\n",
    "    ).mean()\n",
    "    mean_squared_distances.append(mean_squared_distance)\n",
    "    print(\n",
    "        \"cluster \"\n",
    "        + str(i)\n",
    "        + \"\\t\\t\"\n",
    "        + str(\"%.2f\" % mean_squared_distance)\n",
    "        + \"\\t\\t\\t\\t\"\n",
    "        + str(len(X_train[\"x1\"][mask]))\n",
    "    )\n",
    "print(\n",
    "    \"mean (clusters)\\t\\t\"\n",
    "    + str(\"%.2f\" % (sum(mean_squared_distances) / len(mean_squared_distances)))\n",
    "    + \"\\t\\t\\t\\t\"\n",
    "    + str(len(X_train))\n",
    ")\n",
    "%matplotlib inline\n",
    "plt.figure(figsize=(16, 5))\n",
    "plt.bar(range(len(kmeans.cluster_centers_)), mean_squared_distances)\n",
    "plt.xlabel(\"cluster\")\n",
    "plt.ylabel(\"mean squared distance\")\n",
    "plt.show()"
   ]
  },
  {
   "cell_type": "markdown",
   "metadata": {},
   "source": [
    "### 6.2 Modell testen & anwenden - Bewertung mittels Silhouette-Wert/-Form\n",
    "Der Wert variiert zwischen -1 und 1. Ein Wert von 1 bedeutet das der Punkt einen großen Abstand zu den umliegenden anderen Clustern hat. Ein Wert von 0 bedeutet das der Punkt auf der Grenze zwischen 2 Clustern liegt. Ein Wert von -1 bedeutet das der Punkt wahr. dem falschen Cluster zuegordnet wurde."
   ]
  },
  {
   "cell_type": "code",
   "execution_count": null,
   "metadata": {},
   "outputs": [],
   "source": [
    "# Berechne Silhouetten-Wert\n",
    "from sklearn.metrics import silhouette_samples, silhouette_score\n",
    "\n",
    "print(\"mean silhouette:\\t\" + str(\"%.2f\" % silhouette_score(X_train, kmeans.labels_)))"
   ]
  },
  {
   "cell_type": "code",
   "execution_count": null,
   "metadata": {},
   "outputs": [],
   "source": [
    "# Ausgabe Silhouetten-Wert je Punkt je Cluster\n",
    "df[\"silhouette\"] = silhouette_samples(X_train, kmeans.labels_)\n",
    "df[\"labels\"] = kmeans.labels_\n",
    "df = df.sort_values([\"labels\", \"silhouette\"])\n",
    "%matplotlib inline\n",
    "plt.figure(figsize=(16, 6))\n",
    "plt.plot(range(len(df)), df[\"silhouette\"])\n",
    "plt.plot(\n",
    "    [0, len(df)],\n",
    "    [\n",
    "        silhouette_score(X_train, kmeans.labels_),\n",
    "        silhouette_score(X_train, kmeans.labels_),\n",
    "    ],\n",
    ")\n",
    "plt.xlabel(\"every data point\")\n",
    "plt.ylabel(\"silhouette value\")\n",
    "plt.show()"
   ]
  },
  {
   "cell_type": "markdown",
   "metadata": {},
   "source": [
    "### 6.3 Modell testen & anwenden - Visualisierung Clusterzentren\n",
    "\n",
    "Um die Modellgüte visuell darzustellen wird ein 3D-Plot erstellt."
   ]
  },
  {
   "cell_type": "code",
   "execution_count": null,
   "metadata": {},
   "outputs": [],
   "source": [
    "# 3D-Plot Ergebnis Clustering\n",
    "from mpl_toolkits.mplot3d import Axes3D\n",
    "\n",
    "%matplotlib notebook\n",
    "\n",
    "fig = plt.figure(figsize=(12, 12))\n",
    "ax = fig.add_subplot(111, projection=\"3d\")\n",
    "legend = []\n",
    "\n",
    "for i, cluster in enumerate(kmeans.cluster_centers_):\n",
    "    if i == 0:\n",
    "        color = \"red\"\n",
    "    elif i == 1:\n",
    "        color = \"blue\"\n",
    "    elif i == 2:\n",
    "        color = \"green\"\n",
    "    elif i == 3:\n",
    "        color = \"yellow\"\n",
    "    elif i == 4:\n",
    "        color = \"brown\"\n",
    "    elif i == 5:\n",
    "        color = \"gray\"\n",
    "    elif i == 6:\n",
    "        color = \"olive\"\n",
    "    elif i == 7:\n",
    "        color = \"cyan\"\n",
    "    else:\n",
    "        print(\"Warning - Too many clusters! -> Colours don't match any more!\")\n",
    "    mask = kmeans.labels_ == i\n",
    "    ax.scatter(\n",
    "        X_train[\"x1\"][mask],\n",
    "        X_train[\"x2\"][mask],\n",
    "        X_train[\"x3\"][mask],\n",
    "        c=color,\n",
    "        marker=\"o\",\n",
    "        s=140,\n",
    "    )\n",
    "    ax.scatter(\n",
    "        kmeans.cluster_centers_[i][0],\n",
    "        kmeans.cluster_centers_[i][1],\n",
    "        kmeans.cluster_centers_[i][2],\n",
    "        c=color,\n",
    "        marker=\"o\",\n",
    "        edgecolor=\"black\",\n",
    "        s=500,\n",
    "    )\n",
    "    legend.append(\"data points \" + str(i))\n",
    "    legend.append(\"cluster center \" + str(i))\n",
    "\n",
    "ax.set_xlabel(\"x1\")\n",
    "ax.set_ylabel(\"x2\")\n",
    "ax.set_zlabel(\"x3\")\n",
    "plt.legend(legend)\n",
    "plt.show()"
   ]
  },
  {
   "cell_type": "markdown",
   "metadata": {},
   "source": [
    "### Verständnisfragen:\n",
    "\n",
    "1. Was unterscheidet Clusterverfahren von Regressions- und Klassifikationsverfahren?\n",
    "2. Wie kann man ein Clustering-Ergebnis bewerten? \n",
    "3. Welche Clusteranzahl erscheint für dieses Problem sinnvoll, wie groß ist hier die Summe der mittleren quadratischen Abstände und der Silhouetten-Wert?"
   ]
  }
 ],
 "metadata": {
  "kernelspec": {
   "display_name": "Python 3",
   "language": "python",
   "name": "python3"
  },
  "language_info": {
   "codemirror_mode": {
    "name": "ipython",
    "version": 3
   },
   "file_extension": ".py",
   "mimetype": "text/x-python",
   "name": "python",
   "nbconvert_exporter": "python",
   "pygments_lexer": "ipython3",
   "version": "3.8.5"
  }
 },
 "nbformat": 4,
 "nbformat_minor": 2
}

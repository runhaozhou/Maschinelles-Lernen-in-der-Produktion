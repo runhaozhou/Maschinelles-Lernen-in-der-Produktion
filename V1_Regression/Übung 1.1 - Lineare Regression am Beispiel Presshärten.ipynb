{
 "cells": [
  {
   "cell_type": "markdown",
   "metadata": {},
   "source": [
    "# Übung 1.1 - Lineare Regression am Beispiel Presshärten\n",
    "VO Maschinelles Lernen in der Produktion, WS2020/21, Moritz von Unold, Richard Lux, Felix Soest\n",
    "\n",
    "#### In diesem Notebook soll das Verfahren Lineare Regression anhand des Anwendungsbeispiels Presshärten geübt werden.\n",
    "\n",
    "Ziel der Linerare Regression ist hier den Zusammenhang zwischen den 7 Prozess-Parametern und dem daraus resultierenden Ziel-Parameter (Bauteilhärte) zu bestimmen.\n",
    "\n",
    "Die Erstellung eines linearen Regressionsmodells glieder sich in die 6 Schritte des Data-Minings:"
   ]
  },
  {
   "cell_type": "markdown",
   "metadata": {},
   "source": [
    "![alt text](Prozess_Modellentwicklung_v2.png \"Title\")"
   ]
  },
  {
   "cell_type": "markdown",
   "metadata": {},
   "source": [
    "#### 0. Bibliotheken importieren\n",
    "\n",
    "#### 1. Daten erfassen\n",
    "- Daten importieren\n",
    "\n",
    "#### 2. Daten erkunden\n",
    "- Daten tabellarisch darstellen\n",
    "- Streudiagramme und Histogramme anzeigen\n",
    "\n",
    "#### 3. Daten vorbereiten\n",
    "- Daten in Trainings- und Testdaten aufteilen\n",
    "\n",
    "#### 4. Modelle bilden (hier nur 1 Modell)\n",
    "- Mögliche Hyperparameter (Modell-Parameter) anzeigen\n",
    "- Modell erstellen (untrainiert)\n",
    "- Modell anhand Trainingsdaten trainieren\n",
    "\n",
    "#### 5. (Modelle validieren)\n",
    "- Da nur ein Modell erstellt wird entfällt dieser Schritt\n",
    "\n",
    "#### 6. Modell testen & anwenden\n",
    "- Berechnung der Modellvorhersage auf den Testdaten\n",
    "- Bewertung der Modellgüte mittels Graph (Y/Y_pred)\n",
    "- Bewertung der Modellgüte mittles RMSE & MAE\n",
    "- Erkenntnisse aus dem Modell/Nutzen"
   ]
  },
  {
   "cell_type": "markdown",
   "metadata": {},
   "source": [
    "### 0. Bibliotheken importieren"
   ]
  },
  {
   "cell_type": "code",
   "execution_count": null,
   "metadata": {},
   "outputs": [],
   "source": [
    "# 0. Code-Block\n",
    "\n",
    "# Importiere benötigte Bibliotheken\n",
    "import pandas as pd\n",
    "import numpy as np\n",
    "import matplotlib.pyplot as plt\n",
    "\n",
    "pd.options.mode.chained_assignment = None\n",
    "%matplotlib inline"
   ]
  },
  {
   "cell_type": "markdown",
   "metadata": {},
   "source": [
    "### 1. Daten erfassen - Daten importieren\n",
    "\n",
    "TODO:\n",
    "- Wähle eine Zahl zwischen 1 und 100 für die Generierung deiner spezifischen Zufallszahlen  (1. Code-Block - Zeile 8)\n",
    "\n",
    "(Wähle für alle Notebooks in allen Übungen immer die gleiche Zahl (z.B. den Tag deines Geburtstags). Die verschiedenen Machine-Learning-Verfahren arbeiten dann mit der gleichen Reihe an Zufallszahlen und deren Ergebnisse sind vergleichbar.)\n",
    "\n",
    "- Ausführen des 1. Code-Blocks (markieren und \"Run\" drücken)\n",
    "\n",
    "AUSGABE:\n",
    "- Gewählte Zufallszahl"
   ]
  },
  {
   "cell_type": "code",
   "execution_count": null,
   "metadata": {},
   "outputs": [],
   "source": [
    "# 1. Code-Block\n",
    "\n",
    "# Erstelle eigene Zufallszahlen\n",
    "my_seed = TODO\n",
    "\n",
    "# Lade Datensatz\n",
    "df = pd.read_excel(\"Presshärten_verrauscht_normiert.xlsx\")\n",
    "\n",
    "# Ausgabe gewählte Zufallszahlen\n",
    "print(\"\\nGewählte Zahl für Zufallszahlen: \\t\" + str(my_seed))"
   ]
  },
  {
   "cell_type": "markdown",
   "metadata": {},
   "source": [
    "### 2.1 Daten erkunden - Daten tabellarisch darstellen\n",
    "\n",
    "TODO:\n",
    "- Stelle ein wie viele der letzten Tabellen-Zeilen du anzeigen möchtest, nur ganze Zahlen einsetzten (2. Code-Block - Zeile 4)\n",
    "- Ausführen des 2. Code-Blocks (markieren und \"Run\" drücken)\n",
    "\n",
    "AUSGABE:\n",
    "- Tabelle des Datensatzes"
   ]
  },
  {
   "cell_type": "code",
   "execution_count": null,
   "metadata": {},
   "outputs": [],
   "source": [
    "# 2. Code-Block\n",
    "\n",
    "# Ausgabe der Daten in tabellarischer Form\n",
    "df.tail(TODO)"
   ]
  },
  {
   "cell_type": "markdown",
   "metadata": {},
   "source": [
    "### 2.2 Daten erkunden - Streudiagramme und Histogramme anzeigen\n",
    "\n",
    "Ausgabe der Streudiagramme aller Variablen untereinander sowie der Histogramme der einzelnen Variablen.\n",
    "\n",
    "TODO:\n",
    "- Ausführen des 3. Code-Blocks (markieren und \"Run\" drücken)\n",
    "- (Für größere/kleinere Graphen verändere die Werte in \"figsize=(16, 16)\") \n",
    "\n",
    "AUSGABE:\n",
    "- Streudiagramme aller Variablen untereinander\n",
    "- Histogramme aller Variablen"
   ]
  },
  {
   "cell_type": "code",
   "execution_count": null,
   "metadata": {},
   "outputs": [],
   "source": [
    "# 3. Code-Block\n",
    "\n",
    "# Zeige Streudiagramm aller Variablenkombinationen an\n",
    "from pandas.plotting import scatter_matrix\n",
    "\n",
    "scatter_matrix(df, alpha=0.2, figsize=(16, 16), diagonal=\"hist\")\n",
    "plt.show()"
   ]
  },
  {
   "cell_type": "markdown",
   "metadata": {},
   "source": [
    "### 3.1 Daten vorbereiten - Aufteilen der Daten in Trainings- und Testdaten\n",
    "\n",
    "Der Datensatz wird in einen Trainingsdatensatz und einen Testdatensatz aufgeteilt:\n",
    "Übliche Werte sind für den Trainingsdatensatz 70 - 80% der Daten und für den Testdatensatz 20 - 30%.\n",
    "\n",
    "Mit dem Trainingsdatensatz wird das Regressionsmodell trainiert, der Testdatensatz dient dazu das trainierte Modell zu testen.\n",
    "\n",
    "TODO:\n",
    "- Setze für train_size einen Wert zwischen 0.1 und 0.7 ein (4. Code-Block - Zeile 4)\n",
    "- Beispiel: Ein Wert von 0.8 bedeutet der Datensatz wird in 80% Trainingsdaten und 20% Testdaten unterteilt.\n",
    "- Ausführen des 4. Code-Blocks (markieren und \"Run\" drücken)\n",
    "\n",
    "AUSGABE:\n",
    "- Größe der Datensätze\n",
    "- Ersten 3 Zeilen von X und von y"
   ]
  },
  {
   "cell_type": "code",
   "execution_count": null,
   "metadata": {
    "scrolled": true
   },
   "outputs": [],
   "source": [
    "# 4. Code-Block\n",
    "\n",
    "# Verhältnis Trainings- und Testdaten\n",
    "train_size = TODO\n",
    "\n",
    "# Teile Datensatz in Trainings- und Testdatensatz auf\n",
    "from sklearn.model_selection import train_test_split\n",
    "\n",
    "X_train, X_test, y_train, y_test = train_test_split(\n",
    "    df.drop(columns=[\"Bauteilhärte\"]),\n",
    "    df[\"Bauteilhärte\"],\n",
    "    test_size=(1 - train_size),\n",
    "    random_state=my_seed,\n",
    ")\n",
    "\n",
    "# Ausgabe Datensätze und Anzahl Datenpunkte\n",
    "print(\n",
    "    \"\\nAnzahl Traingsdaten: \\t\"\n",
    "    + str(len(y_train))\n",
    "    + \" / \"\n",
    "    + str(len(df))\n",
    "    + \" \\t(\"\n",
    "    + str(\"%.2f\" % (100 * len(y_train) / len(df)))\n",
    "    + \"%)\"\n",
    ")\n",
    "print(\n",
    "    \"Anzahl Testdaten: \\t\"\n",
    "    + str(len(y_test))\n",
    "    + \" / \"\n",
    "    + str(len(df))\n",
    "    + \" \\t(\"\n",
    "    + str(\"%.2f\" % (100 * len(y_test) / len(df)))\n",
    "    + \"%)\"\n",
    ")\n",
    "print(\"\\nX: \\n\" + str(X_train.head(3)))\n",
    "print(\"\\ny:\\tBauteilhärte\\n\" + str(y_train.head(3)))"
   ]
  },
  {
   "cell_type": "markdown",
   "metadata": {},
   "source": [
    "### 4.1 Modelle bilden - Mögliche Hyperparameter anzeigen\n",
    "\n",
    "Vor der Erstellung eines Modells lassen wir uns zunächst alle einstellbaren Hyperparameter anzeigen.\n",
    "\n",
    "TODO:\n",
    "- Ausführen des 5. Code-Blocks (markieren und \"Run\" drücken)\n",
    "\n",
    "AUSGABE:\n",
    "- Mögliche Hyperparameter für die Erstellung des Linearen Modells"
   ]
  },
  {
   "cell_type": "code",
   "execution_count": null,
   "metadata": {},
   "outputs": [],
   "source": [
    "# 5. Code-Block\n",
    "\n",
    "# Ausgabe möglicher Hyperparameter\n",
    "from sklearn import linear_model\n",
    "\n",
    "linear_model.LinearRegression().get_params()"
   ]
  },
  {
   "cell_type": "markdown",
   "metadata": {},
   "source": [
    "Beschreibung der Hyperparameter:\n",
    "http://scikit-learn.org/stable/modules/generated/sklearn.linear_model.LinearRegression.html#sklearn.linear_model.LinearRegression"
   ]
  },
  {
   "cell_type": "markdown",
   "metadata": {},
   "source": [
    "### 4.2 Modelle bilden - Modell erstellen (untrainiert)\n",
    "\n",
    "Aufstellen des untrainierten Modells, als Hyperparameter wird 'fit_intercept' als True eingestellt, da wir ein Regressionsmodell __mit Konstante__ berechnen wollen.\n",
    "\n",
    "TODO:\n",
    "- Setze in die Klammer \"fit_intercept=True\" ein (6. Code-Block - Zeile 4)\n",
    "- Ausführen des 6. Code-Blocks (markieren und \"Run\" drücken)\n",
    "\n",
    "AUSGABE:\n",
    "- Hyperparameter des erstellten Modells"
   ]
  },
  {
   "cell_type": "code",
   "execution_count": null,
   "metadata": {},
   "outputs": [],
   "source": [
    "# 6. Code-Block\n",
    "\n",
    "# Erstellen des Modells\n",
    "regr = linear_model.LinearRegression(TODO)\n",
    "regr.get_params()"
   ]
  },
  {
   "cell_type": "markdown",
   "metadata": {},
   "source": [
    "### 4.3 Modelle bilden - Modelle anhand Trainingsdaten trainieren\n",
    "\n",
    "Während des Trainings werden die Parameter des Modells/der Regressionsgerade angepasst sodass dieses die Daten des Trainingsdatensatzes abbildet (Gradientenverfahren). \n",
    "\n",
    "TODO:\n",
    "- Ausführen des 7. Code-Blocks (markieren und \"Run\" drücken)\n",
    "\n",
    "AUSGABE:\n",
    "- Gleichung der Regressionsgeraden"
   ]
  },
  {
   "cell_type": "code",
   "execution_count": null,
   "metadata": {},
   "outputs": [],
   "source": [
    "# 7. Code-Block\n",
    "\n",
    "# Trainieren des Lineares Regressionsmodells\n",
    "regr = regr.fit(X_train, y_train)\n",
    "\n",
    "# Ausgabe des Modells\n",
    "regr_model = \"y = \" + str(\"%.3f\" % regr.intercept_)\n",
    "for i in range(len(regr.coef_)):\n",
    "    regr_model += (\n",
    "        \" + \" + str(\"%.3f\" % regr.coef_[i]) + \" * \" + str(list(X_train)[i])\n",
    "    )\n",
    "print(\"\\nRegressionsmodell: \\n\" + str(regr_model))"
   ]
  },
  {
   "cell_type": "markdown",
   "metadata": {},
   "source": [
    "### 5. Validieren der Modelle - entfällt\n",
    "\n",
    "Dieser Schritt ist nur nötig wenn mehrere Modelle erstellt werden."
   ]
  },
  {
   "cell_type": "markdown",
   "metadata": {},
   "source": [
    "### 6.1 Modell testen & anwenden - Berechnung der Modellvorhersage auf den Testdaten\n",
    "\n",
    "Mit dem erstellten Modell wird eine Vorhersage für alle Testdaten berechnet und diese mit den realen Werten verglichen.\n",
    "\n",
    "TODO:\n",
    "- Ausführen des 8. Code-Blocks (markieren und \"Run\" drücken)\n",
    "\n",
    "AUSGABE:\n",
    "- Tabelle mit realer Bauteilhärte, Modell-Vorhersage der Bauteilhärte sowie die Abweichung"
   ]
  },
  {
   "cell_type": "code",
   "execution_count": null,
   "metadata": {},
   "outputs": [],
   "source": [
    "# 8. Code-Block\n",
    "\n",
    "# Berechne Modellvorhersage für jede Zeile des Test-Datensatzes\n",
    "results_test = pd.DataFrame(y_test)\n",
    "results_test[\"Vorhersage_Bauteilhärte\"] = regr.predict(X_test)\n",
    "\n",
    "# Berechne Differenz: Realer Wert - Vorhersage\n",
    "results_test[\"Abweichung_Vorhersage\"] = (\n",
    "    results_test[\"Bauteilhärte\"] - results_test[\"Vorhersage_Bauteilhärte\"]\n",
    ")\n",
    "\n",
    "# Ausgabe Tabelle\n",
    "print(\"\\nModell-Vorhersage und reale Werte der Testdaten:\")\n",
    "results_test.head(n=5)"
   ]
  },
  {
   "cell_type": "markdown",
   "metadata": {},
   "source": [
    "### 6.2 Modell testen & anwenden - Bewertung der Modellgüte mittels Graph (Y/Y_pred)\n",
    "\n",
    "Graph der Modell-Vorhersage über den realen Werten.\n",
    "\n",
    "TODO:\n",
    "- Ausführen des 9. Code-Blocks (markieren und \"Run\" drücken)\n",
    "\n",
    "AUSGABE:\n",
    "- Graph: Bauteilhärte über vorhergesagter Bauteilhärte"
   ]
  },
  {
   "cell_type": "code",
   "execution_count": null,
   "metadata": {},
   "outputs": [],
   "source": [
    "# 9. Code-Block\n",
    "\n",
    "# Ausgabe Graph\n",
    "min_test, max_test = y_test.min(), y_test.max()\n",
    "fig = plt.figure(figsize=(9, 8))\n",
    "plt.plot(y_test, np.squeeze(regr.predict(X_test)), \"o\", alpha=0.4)\n",
    "plt.plot([min_test, max_test], [min_test, max_test], \"--\", c=(0, 0, 0))\n",
    "plt.xlim(min_test - 0.2 * (max_test - min_test), max_test + 0.2 * (max_test - min_test))\n",
    "plt.ylim(min_test - 0.2 * (max_test - min_test), max_test + 0.2 * (max_test - min_test))\n",
    "plt.xlabel(\"reale Bauteilhärte\")\n",
    "plt.ylabel(\"vorhergesagte Bauteilhärte\")\n",
    "plt.title(\"Lineare Regression - Testdatensatz\")"
   ]
  },
  {
   "cell_type": "markdown",
   "metadata": {},
   "source": [
    "### 6.3 Modell testen & anwenden - Berechnung MAE\n",
    "\n",
    "Um die Güte des Regressionsmodells zu bestimmen wird der MAE (Mean-Absolut-Error) berechnet. \n",
    "\n",
    "TODO:\n",
    "- Ausführen des 10. Code-Blocks (markieren und \"Run\" drücken)\n",
    "\n",
    "AUSGABE:\n",
    "- MAE"
   ]
  },
  {
   "cell_type": "code",
   "execution_count": null,
   "metadata": {
    "scrolled": true
   },
   "outputs": [],
   "source": [
    "# 10. Code-Block\n",
    "\n",
    "# Berechne MAE\n",
    "from sklearn.metrics import mean_absolute_error\n",
    "\n",
    "y_pred = regr.predict(X_test)\n",
    "mae = mean_absolute_error(y_test, y_pred)\n",
    "\n",
    "# Ausgabe\n",
    "print(\"\\nMAE: \\t\" + str(\"%.5f\" % mae))"
   ]
  },
  {
   "cell_type": "markdown",
   "metadata": {},
   "source": [
    "### 6.4 Modell testen & anwenden - Erkenntnisse aus dem Modell/Nutzen\n",
    "\n",
    "TODO:\n",
    "- Ausführen des 11. Code-Blocks (markieren und \"Run\" drücken)\n",
    "\n",
    "AUSGABE:\n",
    "- Einflussgröße der Variablen auf die Bauteilhärte"
   ]
  },
  {
   "cell_type": "code",
   "execution_count": null,
   "metadata": {},
   "outputs": [],
   "source": [
    "# 11. Code-Block\n",
    "\n",
    "# Ausgabe Graph\n",
    "fig = plt.figure(figsize=(16, 6))\n",
    "plt.bar(list(X_train), regr.coef_, align=\"center\")\n",
    "plt.title(\"Einfluss der Variablen auf die Bauteilhärte\")"
   ]
  },
  {
   "cell_type": "markdown",
   "metadata": {},
   "source": [
    "### Verständnisfragen:\n",
    "\n",
    "1. Welche Variable hat den größten/kleinsten Einfluss auf die Bauteilhärte?\n",
    "2. Ist die lineare Regression bei diesem Problem sinnvoll? Wie würdest du das Modell bewerten?\n",
    "3. Dein Unternehmen möchte die Bauteilhärte steigern, welche Möglichkeit ist vorzuziehen:\n",
    "    - Möglichkeit 1: Die Umformkraft wird verdoppelt (zusäzliche Kosten neue Presse: 5000€)\n",
    "    - Möglichkeit 2: Die Transportdauer wird halbiert (zusäzliche Kosten neuer Roboter: 8000€)"
   ]
  }
 ],
 "metadata": {
  "file_extension": ".py",
  "kernelspec": {
   "display_name": "Python 3",
   "language": "python",
   "name": "python3"
  },
  "language_info": {
   "codemirror_mode": {
    "name": "ipython",
    "version": 3
   },
   "file_extension": ".py",
   "mimetype": "text/x-python",
   "name": "python",
   "nbconvert_exporter": "python",
   "pygments_lexer": "ipython3",
   "version": "3.8.5"
  },
  "mimetype": "text/x-python",
  "name": "python",
  "npconvert_exporter": "python",
  "pygments_lexer": "ipython3",
  "version": 3
 },
 "nbformat": 4,
 "nbformat_minor": 2
}

{
 "cells": [
  {
   "cell_type": "markdown",
   "metadata": {},
   "source": [
    "# Übung 1.2 - Lineare Regression (LASSO) am Beispiel Presshärten \n",
    "VO Maschinelles Lernen in der Produktion, WS2020/21, Moritz von Unold, Richard Lux, Felix Soest\n",
    "\n",
    "#### In diesem Notebook wird das Verfahren Lineare Regression mit LASSO anhand des Anwendungsbeispiels Presshärten geübt."
   ]
  },
  {
   "cell_type": "markdown",
   "metadata": {},
   "source": [
    "![alt text](Prozess_Modellentwicklung_v2.png \"Title\")"
   ]
  },
  {
   "cell_type": "markdown",
   "metadata": {},
   "source": [
    "#### 0. Bibliotheken importieren\n",
    "\n",
    "#### 1. Daten erfassen\n",
    "- Daten importieren\n",
    "\n",
    "#### 2. Daten erkunden\n",
    "- Daten tabellarisch darstellen\n",
    "- statistische Kennzahlen der Daten berechnen\n",
    "\n",
    "#### 3. Daten vorbereiten\n",
    "- Daten in Trainings- und Testdaten aufteilen\n",
    "\n",
    "#### 4. Modelle bilden (hier nur 1 Modell)\n",
    "- Mögliche Hyperparameter (Modell-Parameter) anzeigen\n",
    "- Modell erstellen (untrainiert)\n",
    "- Modell anhand Trainingsdaten trainieren\n",
    "\n",
    "#### 5. (Modelle validieren)\n",
    "- Da nur ein Modell erstellt wird entfällt dieser Schritt\n",
    "\n",
    "#### 6. Modell testen & anwenden\n",
    "- Berechnung der Modellvorhersage auf den Testdaten\n",
    "- Bewertung der Modellgüte mittels Graph (Y/Y_pred)\n",
    "- Bewertung der Modellgüte mittles MAE\n",
    "\n",
    "#### 7. Visualisierung Zusammenhang alpha-Wert und MAE\n",
    "- Trainieren und Testen von 30 Modellen mit unterschiedlichen alpha-Werten"
   ]
  },
  {
   "cell_type": "markdown",
   "metadata": {},
   "source": [
    "### 0. Bibliotheken importieren"
   ]
  },
  {
   "cell_type": "code",
   "execution_count": null,
   "metadata": {},
   "outputs": [],
   "source": [
    "# 0. Code-Block\n",
    "\n",
    "# Importiere benötigte Bibliotheken\n",
    "import pandas as pd\n",
    "import numpy as np\n",
    "import matplotlib.pyplot as plt\n",
    "\n",
    "pd.options.mode.chained_assignment = None\n",
    "%matplotlib inline"
   ]
  },
  {
   "cell_type": "markdown",
   "metadata": {},
   "source": [
    "### 1. Daten erfassen - Daten importieren\n",
    "\n",
    "TODO:\n",
    "- Wähle eine Zahl zwischen 1 und 100 für die Generierung deiner spezifischen Zufallszahlen  (1. Code-Block - Zeile 8)\n",
    "- Ausführen des 1. Code-Blocks (markieren und \"Run\" drücken)\n",
    "\n",
    "AUSGABE:\n",
    "- Gewählte Zufallszahl"
   ]
  },
  {
   "cell_type": "code",
   "execution_count": null,
   "metadata": {},
   "outputs": [],
   "source": [
    "# 1. Code-Block\n",
    "\n",
    "# Erstelle eigene Zufallszahlen\n",
    "my_seed = TODO\n",
    "\n",
    "# Lade Datensatz\n",
    "df = pd.read_excel(\"Presshärten_verrauscht_normiert.xlsx\")\n",
    "\n",
    "# Ausgabe gewählte Zufallszahlen\n",
    "print(\"\\nGewählte Zahl für Zufallszahlen: \\t\" + str(my_seed))"
   ]
  },
  {
   "cell_type": "markdown",
   "metadata": {},
   "source": [
    "### 2.1 Daten erkunden - Daten tabellarisch darstellen\n",
    "\n",
    "TODO:\n",
    "- Stell ein wie viele der letzten Tabellen-Zeilen du anzeigen möchtest (2. Code-Block - Zeile 4)\n",
    "- Ausführen des 2. Code-Blocks (markieren und \"Run\" drücken)\n",
    "\n",
    "AUSGABE:\n",
    "- Tabelle des Datensatzes"
   ]
  },
  {
   "cell_type": "code",
   "execution_count": null,
   "metadata": {},
   "outputs": [],
   "source": [
    "# 2. Code-Block\n",
    "\n",
    "# Ausgabe der Daten in tabellarischer Form\n",
    "df.tail(TODO)"
   ]
  },
  {
   "cell_type": "markdown",
   "metadata": {},
   "source": [
    "### 2.2 Daten erkunden - statistische Kennzahlen der Daten berechnen\n",
    "\n",
    "Ausgabe der statistischen Kennzahlen aller Variablen.\n",
    "\n",
    "TODO:\n",
    "- Ausführen des 3. Code-Blocks (markieren und \"Run\" drücken)\n",
    "\n",
    "AUSGABE:\n",
    "- statistische Kennzahlen"
   ]
  },
  {
   "cell_type": "code",
   "execution_count": null,
   "metadata": {},
   "outputs": [],
   "source": [
    "# 3. Code-Block\n",
    "\n",
    "# Zeige statistische Kennzahlen aller Variablen an\n",
    "df.describe()"
   ]
  },
  {
   "cell_type": "markdown",
   "metadata": {},
   "source": [
    "### 3.1 Daten vorbereiten - Aufteilen der Daten in Trainings- und Testdaten\n",
    "\n",
    "Der Datensatz wird in einen Trainingsdatensatz und einen Testdatensatz aufgeteilt:\n",
    "Übliche Werte sind für den Trainingsdatensatz 70 - 80% der Daten und für den Testdatensatz 20 - 30%.\n",
    "\n",
    "Mit dem Trainingsdatensatz wird das Regressionsmodell trainiert, der Testdatensatz dient dazu das trainierte Modell zu testen.\n",
    "\n",
    "TODO:\n",
    "- Setzte für train_size einen Wert zwischen 0.1 und 0.9 ein (4. Code-Block - Zeile 4)\n",
    "- Beispiel: Ein Wert von 0.8 bedeutet der Datensatz wird in 80% Trainingsdaten und 20% Testdaten unterteilt\n",
    "- Ausführen des 4. Code-Blocks (markieren und \"Run\" drücken)\n",
    "\n",
    "AUSGABE:\n",
    "- Größe der Datensätze\n",
    "- Ersten 3 Zeilen von X und von y"
   ]
  },
  {
   "cell_type": "code",
   "execution_count": null,
   "metadata": {},
   "outputs": [],
   "source": [
    "# 4. Code-Block\n",
    "\n",
    "# Verhältnis Trainings- und Testdaten\n",
    "train_size = TODO\n",
    "\n",
    "# Teile Datensatz in Trainings- und Testdatensatz auf\n",
    "from sklearn.model_selection import train_test_split\n",
    "\n",
    "X_train, X_test, y_train, y_test = train_test_split(\n",
    "    df.drop(columns=[\"Bauteilhärte\"]),\n",
    "    df[\"Bauteilhärte\"],\n",
    "    test_size=(1 - train_size),\n",
    "    random_state=my_seed,\n",
    ")\n",
    "\n",
    "# Ausgabe Datensätze und Anzahl Datenpunkte\n",
    "print(\n",
    "    \"\\nAnzahl Traingsdaten: \\t\"\n",
    "    + str(len(y_train))\n",
    "    + \" / \"\n",
    "    + str(len(df))\n",
    "    + \" \\t(\"\n",
    "    + str(\"%.2f\" % (100 * len(y_train) / len(df)))\n",
    "    + \"%)\"\n",
    ")\n",
    "print(\n",
    "    \"Anzahl Testdaten: \\t\"\n",
    "    + str(len(y_test))\n",
    "    + \" / \"\n",
    "    + str(len(df))\n",
    "    + \" \\t(\"\n",
    "    + str(\"%.2f\" % (100 * len(y_test) / len(df)))\n",
    "    + \"%)\"\n",
    ")\n",
    "print(\"\\nX: \\n\" + str(X_train.head(3)))\n",
    "print(\"\\ny:\\tBauteilhärte\\n\" + str(y_train.head(3)))"
   ]
  },
  {
   "cell_type": "markdown",
   "metadata": {},
   "source": [
    "### 4.1 Modelle bilden - Mögliche Hyperparameter anzeigen\n",
    "\n",
    "Vor der Erstellung eines Modells lassen wir uns zunächst alle einstellbaren Hyperparameter anzeigen.\n",
    "\n",
    "TODO:\n",
    "- Ausführen des 5. Code-Blocks (markieren und \"Run\" drücken)\n",
    "\n",
    "AUSGABE:\n",
    "- Mögliche Hyperparameter für die Erstellung des Linearen Modells"
   ]
  },
  {
   "cell_type": "code",
   "execution_count": null,
   "metadata": {},
   "outputs": [],
   "source": [
    "# 5. Code-Block\n",
    "\n",
    "# Ausgabe möglicher Hyperparameter\n",
    "from sklearn import linear_model\n",
    "\n",
    "linear_model.Lasso().get_params()"
   ]
  },
  {
   "cell_type": "markdown",
   "metadata": {},
   "source": [
    "Beschreibung der Hyperparameter:\n",
    "http://scikit-learn.org/stable/modules/generated/sklearn.linear_model.Lasso.html"
   ]
  },
  {
   "cell_type": "markdown",
   "metadata": {},
   "source": [
    "### 4.2 Modelle bilden - Modell erstellen (untrainiert)\n",
    "\n",
    "Wir erstellen ein Lineares LASSO-Modell. Diese enthält den zusätzlichen Hyperparameter 'alpha'. Alpha ist der Strafterm welcher das ausklammern von Variablen mit geringem Einfluss auf das Ergebnis ermöglicht.\n",
    "\n",
    "Als Hyperparameter werden neben dem Strafterm alpha, 'fit_intercept' als True eingestellt, da wir ein Regressionsmodell MIT Konstante berechnen wollen. Des Weiteren wird 'random_state' auf 'my_seed' eingestellt damit der Algorithmus mit unseren spezifischen Zufallszahlen arbeitet.\n",
    "\n",
    "TODO:\n",
    "- Wähle einen alpha-Wert zwischen 2 und 0.0000001, z.B: 0.1 (6. Code-Block - Zeile 4) \n",
    "- Setzte in die Klammer \"fit_intercept=True\" ein (6. Code-Block - Zeile 8)\n",
    "- Setzte in die Klammer \"random_state=my_seed\" ein (6. Code-Block - Zeile 8)\n",
    "- Setzte in die Klammer \"alpha=alpha\" ein (6. Code-Block - Zeile 8)\n",
    "- Ausführen des 6. Code-Blocks (markieren und \"Run\" drücken)\n",
    "\n",
    "AUSGABE:\n",
    "- Hyperparameter des erstellten Modells\n",
    "\n",
    "Versuche den alpha-Wert so einzustellen das das Modell aus 2-4 Variablen besteht (Anzahl Variablen im Modell siehe Ausgabe 4.3)."
   ]
  },
  {
   "cell_type": "code",
   "execution_count": null,
   "metadata": {},
   "outputs": [],
   "source": [
    "# 6. Code-Block\n",
    "\n",
    "# Einstellen des alpha-Parameters (= Lasso-Strafterm)\n",
    "alpha = TODO\n",
    "\n",
    "# Erstelle Lineares LASSO-Modell\n",
    "lasso = linear_model.Lasso(TODO, TODO, TODO)\n",
    "\n",
    "# Ausgabe Hyperparameter des Modells\n",
    "lasso.get_params()"
   ]
  },
  {
   "cell_type": "markdown",
   "metadata": {},
   "source": [
    "### 4.3 Modelle bilden - Modelle anhand Trainingsdaten trainieren\n",
    "\n",
    "Während des Trainings werden die Parameter des Modells/der Regressionsgerade angepasst sodass dieses die Daten des Trainingsdatensatzes abbildet (Gradientenverfahren). \n",
    "\n",
    "TODO:\n",
    "- Ausführen des 7. Code-Blocks (markieren und \"Run\" drücken)\n",
    "\n",
    "AUSGABE:\n",
    "- Gleichung der Regressionsgeraden\n",
    "- Graph: Einfluss der Input-Variablen auf die Bauteilhärte"
   ]
  },
  {
   "cell_type": "code",
   "execution_count": null,
   "metadata": {},
   "outputs": [],
   "source": [
    "# 7. Code-Block\n",
    "\n",
    "# Trainieren des Modells\n",
    "lasso.fit(X_train, y_train)\n",
    "\n",
    "# Ausgabe des Modells\n",
    "model_1 = \"y = \" + str(\"%.3f\" % lasso.intercept_)\n",
    "for i in range(len(lasso.coef_)):\n",
    "    model_1 += (\n",
    "        \" + \"\n",
    "        + str(\"%.3f\" % lasso.coef_[i])\n",
    "        + \" * \"\n",
    "        + str(list(X_train)[i])\n",
    "    )\n",
    "print(\"\\nRegressionsmodell: \\n\" + str(model_1))\n",
    "\n",
    "# Ausgabe Graph\n",
    "fig = plt.figure(figsize=(16, 6))\n",
    "plt.bar(list(X_train), lasso.coef_, align=\"center\")\n",
    "plt.title(\"Einfluss der Variablen auf die Bauteilhärte\")"
   ]
  },
  {
   "cell_type": "markdown",
   "metadata": {},
   "source": [
    "Wie viele Variablen sind noch im Modell enthalten (wurden also nicht durch den Lasso-Strafterm 0 gesetzt)?\n",
    "\n",
    "Versuche durch die Wahl eines geeigneten Lasso-Wertes (alpha) in Punkt 4.2 ein Modell mit 2-4 Variablen zu erstellen."
   ]
  },
  {
   "cell_type": "markdown",
   "metadata": {},
   "source": [
    "### 5. Validieren der Modelle - entfällt\n",
    "\n",
    "Dieser Schritt ist nur nötig wenn mehrere Modelle erstellt werden."
   ]
  },
  {
   "cell_type": "markdown",
   "metadata": {},
   "source": [
    "### 6.1 Modell testen & anwenden - Berechnung der Modellvorhersage auf den Testdaten\n",
    "\n",
    "Mit dem erstellten Modell wird eine Vorhersage für alle Testdaten berechnet und diese mit den realen Werten verglichen.\n",
    "\n",
    "TODO:\n",
    "- Stelle ein wie viele Zeilen des Ergebnisses du anzeigen lassen willst (8. Code-Block - Zeile 12)\n",
    "- Ausführen des 8. Code-Blocks (markieren und \"Run\" drücken)\n",
    "\n",
    "AUSGABE:\n",
    "- Tabelle Reale Bauteilhärte, Modell-Vorhersage der Bauteilhärte sowie die Abweichung"
   ]
  },
  {
   "cell_type": "code",
   "execution_count": null,
   "metadata": {},
   "outputs": [],
   "source": [
    "# 8. Code-Block\n",
    "\n",
    "# Berechne Modellvorhersage für jede Zeile des Test-Datensatzes\n",
    "results_test = pd.DataFrame(y_test)\n",
    "results_test[\"Vorhersage_Bauteilhärte\"] = lasso.predict(X_test)\n",
    "\n",
    "# Berechne Differenz: Realer Wert - Vorhersage\n",
    "results_test[\"Abweichung_Vorhersage\"] = (\n",
    "    results_test[\"Bauteilhärte\"] - results_test[\"Vorhersage_Bauteilhärte\"]\n",
    ")\n",
    "\n",
    "# Ausgabe Tabelle\n",
    "print(\"\\nModell-Vorhersage und reale Werte der Testdaten:\")\n",
    "results_test.head(TODO)"
   ]
  },
  {
   "cell_type": "markdown",
   "metadata": {},
   "source": [
    "### 6.2 Modell testen & anwenden - Bewertung der Modellgüte mittels Graph (Y/Y_pred)\n",
    "\n",
    "Graph der Modell-Vorhersage über den realen Werten.\n",
    "\n",
    "TODO:\n",
    "- Stelle die Größe des auszugebenden Graphen ein, z.B. figsize=(9, 8) (9. Code-Block - Zeile 5)\n",
    "\n",
    "(Die Größe ist in Zoll -> 1 Zoll = 2,54 cm)\n",
    "- Ausführen des 9. Code-Blocks (markieren und \"Run\" drücken)\n",
    "\n",
    "AUSGABE:\n",
    "- Tabelle mit realer Bauteilhärte, Modell-Vorhersage der Bauteilhärte sowie die Abweichung"
   ]
  },
  {
   "cell_type": "code",
   "execution_count": null,
   "metadata": {},
   "outputs": [],
   "source": [
    "# 9. Code-Block\n",
    "\n",
    "# Ausgabe Graph\n",
    "min_test, max_test = y_test.min(), y_test.max()\n",
    "fig = plt.figure(figsize=(TODO, TODO))\n",
    "plt.plot(y_test, np.squeeze(lasso.predict(X_test)), \"o\", alpha=0.4)\n",
    "plt.plot([min_test, max_test], [min_test, max_test], \"--\", c=(0, 0, 0))\n",
    "plt.xlim(min_test - 0.2 * (max_test - min_test), max_test + 0.2 * (max_test - min_test))\n",
    "plt.ylim(min_test - 0.2 * (max_test - min_test), max_test + 0.2 * (max_test - min_test))\n",
    "plt.xlabel(\"reale Bauteilhärte\")\n",
    "plt.ylabel(\"vorhergesagte Bauteilhärte\")\n",
    "plt.title(\"Lineare Regression Lasso - Testdatensatz\")"
   ]
  },
  {
   "cell_type": "markdown",
   "metadata": {},
   "source": [
    "### 6.3 Modell testen & anwenden - Berechnung MAE\n",
    "\n",
    "Um die Güte des Regressionsmodells zu bestimmen wird der MAE (Mean-Absolut-Error) berechnet. \n",
    "\n",
    "TODO:\n",
    "- Ausführen des 10. Code-Blocks (markieren und \"Run\" drücken)\n",
    "\n",
    "AUSGABE:\n",
    "- MAE"
   ]
  },
  {
   "cell_type": "code",
   "execution_count": null,
   "metadata": {
    "scrolled": true
   },
   "outputs": [],
   "source": [
    "# 10. Code-Block\n",
    "\n",
    "# Berechne MAE\n",
    "from sklearn.metrics import mean_absolute_error\n",
    "\n",
    "y_pred = lasso.predict(X_test)\n",
    "mae = mean_absolute_error(y_test, y_pred)\n",
    "\n",
    "# Ausgabe\n",
    "print(\"\\nMAE: \\t\" + str(\"%.5f\" % mae))"
   ]
  },
  {
   "cell_type": "markdown",
   "metadata": {},
   "source": [
    "### 7. Visualisierung Zusammenhang Alpha-Wert und MAE\n",
    "\n",
    "Um den Einfluss des alpha-Wertes zu beurteilen werden 80 Modelle mit verschiedenen alpha-Werten trainiert und jeweils der RMSE berechnet.\n",
    "\n",
    "TODO:\n",
    "- Wähle den niedrigsten und höchsten alpha-Wert (alpha_min, alpha_max), es werden 80 Modelle mit varrierendem alpha-Wert beginnend beim niedrigsten und endend beim höchsten alpha-Wert berechnet (10. Code-Block - Zeile 4 & 5)\n",
    "- Beginne mit einer großen Spanne für alpha (z.B. 0.0001 - 3) und taste dich schrittweise an das Optimum an.\n",
    "- Ausführen des 11. Code-Blocks (markieren und \"Run\" drücken)\n",
    "\n",
    "AUSGABE:\n",
    "- Graph: Zusammenhang Alpha-Wert und RMSE (bzw. Modellgüte)"
   ]
  },
  {
   "cell_type": "code",
   "execution_count": null,
   "metadata": {},
   "outputs": [],
   "source": [
    "# 11. Code-Block\n",
    "\n",
    "# Einstellen des Lasso-Strafterms/alpha-Wertes\n",
    "alpha_min = TODO  # Nicht 0 einsetzten, z.B. 0.0000001\n",
    "alpha_max = TODO  # z.B. 2.0\n",
    "\n",
    "# Trainiere 80 Modelle mit Hyperparameter alpha zwischen lasso_begin und lasso_end\n",
    "list_MAE = []\n",
    "list_varcount = []\n",
    "alphas = np.linspace(alpha_min, alpha_max, 80)\n",
    "for alpha in alphas:\n",
    "\n",
    "    # Erstelle und Trainiere Lineares Modell\n",
    "    lasso = linear_model.Lasso(alpha=(alpha))\n",
    "    lasso.fit(X_train, y_train)\n",
    "\n",
    "    # Berechne Vorhersage und RMSE\n",
    "    y_P_test = lasso.predict(X_test)\n",
    "    y_pred = lasso.predict(X_test)\n",
    "    list_MAE.append(mean_absolute_error(y_test, y_pred))\n",
    "\n",
    "    # Zähle Variablen nicht 0\n",
    "    coefs = 0\n",
    "    for coef in lasso.coef_:\n",
    "        if coef != 0:\n",
    "            coefs += 1\n",
    "    list_varcount.append(coefs)\n",
    "\n",
    "# Ausgabe Graphen\n",
    "idx_min = list_MAE.index(min(list_MAE))\n",
    "plt.figure(figsize=(16, 13))\n",
    "plt.subplot(2, 1, 1)\n",
    "plt.plot(alphas, list_MAE, \"o--\")\n",
    "plt.xlabel(\"Alpha-Werte der Modelle \")\n",
    "plt.ylabel(\"MAE\")\n",
    "plt.title(\"Modellgüte (MAE) in Abhängigkeit des alpha-Wertes (Lasso-Strafterm)\")\n",
    "plt.plot(alphas[idx_min], list_MAE[idx_min], \"ro\")\n",
    "plt.subplot(2, 1, 2)\n",
    "plt.plot(alphas, list_varcount, \"o--\")\n",
    "plt.xlabel(\"Alpha-Werte der Modelle\")\n",
    "plt.ylabel(\"Anzahl Varibalen im Modell\")\n",
    "plt.title(\n",
    "    \"Anzahl Variablen im Modell in Abhängigkeit des alpha-Wertes (Lasso-Strafterm)\"\n",
    ")\n",
    "plt.plot(alphas[idx_min], list_varcount[idx_min], \"ro\")\n",
    "\n",
    "# Ausgabe bester alpha-Wert\n",
    "print(\n",
    "    \"\\nGeringster MAE (höchste Genauigkeit des Modells) bei einem alpha-Wert von \"\n",
    "    + str(\"%.5f\" % alphas[idx_min])\n",
    "    + \".\"\n",
    ")"
   ]
  },
  {
   "cell_type": "markdown",
   "metadata": {},
   "source": [
    "### Verständnisfragen:\n",
    "\n",
    "1. Welche Vorteile/Unterschiede besitzt die Lineare Regression mit LASSO gegenüber der Linearen Regression?\n",
    "2. Welcher Alpha-Wert ergibt den geringsten MAE für das Problem in diesem Notebook? Wie viele und welche Variablen enthält das Modell mit diesem alpha-Wert? Welchen MAE hat das Modell?"
   ]
  }
 ],
 "metadata": {
  "file_extension": ".py",
  "kernelspec": {
   "display_name": "Python 3",
   "language": "python",
   "name": "python3"
  },
  "language_info": {
   "codemirror_mode": {
    "name": "ipython",
    "version": 3
   },
   "file_extension": ".py",
   "mimetype": "text/x-python",
   "name": "python",
   "nbconvert_exporter": "python",
   "pygments_lexer": "ipython3",
   "version": "3.8.5"
  },
  "mimetype": "text/x-python",
  "name": "python",
  "npconvert_exporter": "python",
  "pygments_lexer": "ipython3",
  "version": 3
 },
 "nbformat": 4,
 "nbformat_minor": 2
}

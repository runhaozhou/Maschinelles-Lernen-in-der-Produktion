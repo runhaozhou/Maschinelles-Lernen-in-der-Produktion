{
 "cells": [
  {
   "cell_type": "markdown",
   "metadata": {},
   "source": [
    "# Übung 1.0 - Kurze Einführung in Jupyter Notebooks\n",
    "VO Maschinelles Lernen in der Produktion, WS2020/21, Moritz von Unold, Richard Lux, Felix Soest\n",
    "\n",
    "#### Dieses Notebook soll eine kurze Einführung in die Nutzung von Jupyter Notebooks geben.\n",
    "\n",
    "### Gliederung:\n",
    "\n",
    "0. Bibliotheken importieren\n",
    "1. Datensatz importieren und als Tabelle ausgeben\n",
    "2. Anzahl der Daten feststellen\n",
    "3. Daten im Streudiagramm darstellen"
   ]
  },
  {
   "cell_type": "markdown",
   "metadata": {},
   "source": [
    "### 0. Bibliotheken importieren"
   ]
  },
  {
   "cell_type": "code",
   "execution_count": null,
   "metadata": {},
   "outputs": [],
   "source": [
    "# 0. Code-Block\n",
    "\n",
    "# Importiere benötigter Bibliotheken\n",
    "import pandas as pd\n",
    "import matplotlib.pyplot as plt\n",
    "\n",
    "%matplotlib inline"
   ]
  },
  {
   "cell_type": "markdown",
   "metadata": {},
   "source": [
    "### 1. Datensatz importieren und als Tabelle ausgeben\n",
    "\n",
    "TODO: \n",
    "- Ausführen des 1. Code-Blocks (markieren und \"Run\" drücken)\n",
    "\n",
    "AUSGABE:\n",
    "- Tabelle der Daten (letzten 5 Zeilen)"
   ]
  },
  {
   "cell_type": "code",
   "execution_count": null,
   "metadata": {},
   "outputs": [],
   "source": [
    "# 1. Code-Block\n",
    "\n",
    "# Importiere Datensatz\n",
    "df = pd.read_excel(\"Presshärten_verrauscht_normiert.xlsx\")\n",
    "\n",
    "# Ausgabe Tabelle\n",
    "df.tail(10)"
   ]
  },
  {
   "cell_type": "markdown",
   "metadata": {},
   "source": [
    "### 2. Anzahl der Daten feststellen\n",
    "\n",
    "TODO: \n",
    "- Ausführen des 2. Code-Blocks (markieren und \"Run\" drücken)\n",
    "\n",
    "AUSGABE:\n",
    "- Anzahl Datenpunkte/Länge Datensatz"
   ]
  },
  {
   "cell_type": "code",
   "execution_count": null,
   "metadata": {},
   "outputs": [],
   "source": [
    "# 2. Code-Block\n",
    "\n",
    "# Länge des Datensatzes\n",
    "print(\"\\nAnzahl der Daten: \\t\" + str(len(df)))"
   ]
  },
  {
   "cell_type": "markdown",
   "metadata": {},
   "source": [
    "### 3. Daten im Streudiagramm darstellen\n",
    "\n",
    "TODO: \n",
    "- Setze im 3. Code-Block Variablen zur Darstellung im Streudiagramm anstatt TODO ein (z.B. Transportdauer und Bauteilhärte) (3. Code-Block - Zeile 4-5)\n",
    "- Ausführen des 3. Code-Blocks (markieren und \"Run\" drücken)\n",
    "\n",
    "AUSGABE:\n",
    "- Streudiagramm der gewählten Variablen"
   ]
  },
  {
   "cell_type": "code",
   "execution_count": null,
   "metadata": {},
   "outputs": [],
   "source": [
    "# 3. Code-Block\n",
    "\n",
    "# Länge des Datensatzes\n",
    "variable_1 = \"TODO\"\n",
    "variable_2 = \"TODO\"\n",
    "\n",
    "# Ausgabe des Streudiagramms\n",
    "plt.plot(df[variable_1], df[variable_2], \"o\")\n",
    "plt.show()"
   ]
  },
  {
   "cell_type": "code",
   "execution_count": null,
   "metadata": {},
   "outputs": [],
   "source": [
    "# 4. Code-Block\n",
    "\n",
    "# Ausgabe eines Streudiagramms\n",
    "plt.figure(figsize=(16, 10))\n",
    "plt.xlabel(variable_1)\n",
    "plt.ylabel(variable_2)\n",
    "plt.title(\"Streudiagramm\")\n",
    "plt.scatter(df[variable_1], df[variable_2], alpha=0.5, s=100, edgecolors=\"k\")\n",
    "plt.plot([0, 1], [485, 380], \"k--\", linewidth=3)\n",
    "plt.show()"
   ]
  },
  {
   "cell_type": "code",
   "execution_count": null,
   "metadata": {},
   "outputs": [],
   "source": []
  },
  {
   "cell_type": "code",
   "execution_count": null,
   "metadata": {},
   "outputs": [],
   "source": []
  }
 ],
 "metadata": {
  "file_extension": ".py",
  "kernelspec": {
   "display_name": "Python 3",
   "language": "python",
   "name": "python3"
  },
  "language_info": {
   "codemirror_mode": {
    "name": "ipython",
    "version": 3
   },
   "file_extension": ".py",
   "mimetype": "text/x-python",
   "name": "python",
   "nbconvert_exporter": "python",
   "pygments_lexer": "ipython3",
   "version": "3.7.9"
  },
  "mimetype": "text/x-python",
  "name": "python",
  "npconvert_exporter": "python",
  "pygments_lexer": "ipython3",
  "version": 3
 },
 "nbformat": 4,
 "nbformat_minor": 2
}

{
 "cells": [
  {
   "cell_type": "markdown",
   "metadata": {},
   "source": [
    "# Übung 2.1 - Entscheidungsbäume am Beispiel Schwertlilienbestimmung\n",
    "VO Maschinelles Lernen in der Produktion, WS2020/21, Moritz von Unold, Richard Lux, Felix Soest\n",
    "\n",
    "#### In diesem Notebook wird das Verfahren Entscheidungsbäume anhand des Anwendungsbeispiels Schwertlilienbestimmung geübt.\n",
    "\n",
    "Im Datensatz der Schwertlilien werden drei verschiedene Lilienarten anhand 4 Eigenschaften (Breite und Länge der Kelchblätter, Breite und Länge der Kronblätter) klassifiziert. Es soll ein Entscheidungsbaum erstellt werden welcher bei gegebenen Breiten und Längen der Kelch- und Kronblätter die Art der Lilie (iris-setosa, iris-virginica oder iris-versicolor) bestimmen kann. "
   ]
  },
  {
   "cell_type": "markdown",
   "metadata": {},
   "source": [
    "![alt text](Prozess_Modellentwicklung_v2.png \"Title\")"
   ]
  },
  {
   "cell_type": "markdown",
   "metadata": {},
   "source": [
    "#### 0. Bibliotheken importieren\n",
    "\n",
    "#### 1. Daten erfassen\n",
    "- Daten importieren\n",
    "\n",
    "#### 2. Daten erkunden\n",
    "- Daten tabellarisch darstellen\n",
    "- Klassenzugehörigkeit anzeigen\n",
    "\n",
    "#### 3. Daten vorbereiten\n",
    "- Daten in Trainings- und Testdaten aufteilen\n",
    "\n",
    "#### 4. Modelle bilden (hier nur 1 Modell)\n",
    "- Mögliche Hyperparameter (Modell-Parameter) anzeigen\n",
    "- Modell erstellen (und trainieren\n",
    "- Bewertung des Trainings - falsche Vorhersagen\n",
    "- Bewertung des Trainings - Genauigkeit\n",
    "\n",
    "#### 5. (Modelle validieren)\n",
    "- Da nur ein Modell erstellt wird entfällt dieser Schritt\n",
    "\n",
    "#### 6. Modell testen & anwenden\n",
    "- Bewertung des Modells - falsche Vorhersagen\n",
    "- Bewertung des Modells - Wahrheitsmatrix \n",
    "- Bewertung des Modells - Genauigkeit\n",
    "- Erkenntnisse aus dem Modell/Nutzen\n",
    "\n",
    "#### 7. Visualisierung: Genauigkeit über der Baumtiefe und der Anzahl der Blätter "
   ]
  },
  {
   "cell_type": "markdown",
   "metadata": {},
   "source": [
    "### 0.Bibliotheken importieren"
   ]
  },
  {
   "cell_type": "code",
   "execution_count": null,
   "metadata": {},
   "outputs": [],
   "source": [
    "# 0. Code-Block\n",
    "# Importiere benötigte Bibliotheken\n",
    "import pandas as pd\n",
    "import numpy as np\n",
    "import matplotlib.pyplot as plt\n",
    "\n",
    "pd.options.mode.chained_assignment = None\n",
    "%matplotlib inline"
   ]
  },
  {
   "cell_type": "markdown",
   "metadata": {},
   "source": [
    "### 1. Daten erfassen - Daten importieren\n",
    "\n",
    "TODO:\n",
    "- Wähle eine Zahl zwischen 1 und 100 für die Generierung deiner spezifischen Zufallszahlen  (1. Code-Block - Zeile 8)\n",
    "\n",
    "(Wähle für alle Notebooks in allen Übungen immer die gleiche Zahl (z.B. den Tag deines Geburtstags), dann sind die Ergebnisse der verschiedenen Machine-Learning-Verfahren vergleichbar da dann alle Notebooks mit der \"gleichen\" Folge an Zufallszahlen arbeiten)\n",
    "- Ausführen des 1. Code-Blocks (markieren und \"Run\" drücken)\n",
    "\n",
    "AUSGABE:\n",
    "- Gewählte Zufallszahl"
   ]
  },
  {
   "cell_type": "code",
   "execution_count": null,
   "metadata": {},
   "outputs": [],
   "source": [
    "# 1. Code-Block\n",
    "\n",
    "# Erstelle eigene Zufallszahlen\n",
    "my_seed = TODO\n",
    "\n",
    "# Lade Datensatz\n",
    "df = pd.read_excel(\"Daten_Schwertlilien.xlsx\")\n",
    "\n",
    "# Ausgabe gewählte Zufallszahlen\n",
    "print(\"\\nGewählte Zahl für Zufallszahlen: \\t\" + str(my_seed))"
   ]
  },
  {
   "cell_type": "markdown",
   "metadata": {},
   "source": [
    "### 2.1 Daten erkunden - Daten tabellarisch darstellen\n",
    "\n",
    "TODO:\n",
    "- Schreibe die Code-Zeile um dir die letzten 10 Zeilen das Datensatzes anzuzeigen\n",
    "- Hilfe dafür im Cheat_Sheet_Daten_erkunden (im OPAL)\n",
    "- Ausführen des 2. Code-Blocks (markieren und \"Run\" drücken)\n",
    "\n",
    "AUSGABE:\n",
    "- Tabelle des Datensatzes"
   ]
  },
  {
   "cell_type": "code",
   "execution_count": null,
   "metadata": {},
   "outputs": [],
   "source": [
    "# 2. Code-Block\n",
    "\n",
    "# Ausgabe der Daten in tabellarischer Form\n",
    "df.tail(TODO)"
   ]
  },
  {
   "cell_type": "markdown",
   "metadata": {},
   "source": [
    "### 2.2 Daten erkunden - Klassenzugehörigkeit anzeigen\n",
    "\n",
    "Visuelle Darstellung der Klassenzugehörigkeit.\n",
    "\n",
    "TODO:\n",
    "- Ausführen des 3. Code-Blocks (markieren und \"Run\" drücken)\n",
    "\n",
    "AUSGABE:\n",
    "- Pair-Plot, Darstellung der Klassen über 2 Variablen"
   ]
  },
  {
   "cell_type": "code",
   "execution_count": null,
   "metadata": {},
   "outputs": [],
   "source": [
    "# 3. Code-Block\n",
    "\n",
    "# Ausgabe Klassenzugehörigkeit\n",
    "import seaborn as sns\n",
    "\n",
    "sns.pairplot(df, hue=\"Lilienart\", diag_kind=\"hist\")"
   ]
  },
  {
   "cell_type": "markdown",
   "metadata": {},
   "source": [
    "### 3.1 Daten vorbereiten - Aufteilen der Daten in Trainings- und Testdaten\n",
    "\n",
    "Der Datensatz wird in einen Trainingsdatensatz und einen Testdatensatz aufgeteilt:\n",
    "Übliche Werte sind für den Trainingsdatensatz 70 - 80% der Daten und für den Testdatensatz 20 - 30%.\n",
    "\n",
    "Mit dem Trainingsdatensatz wird das Regressionsmodell trainiert, der Testdatensatz dient dazu das trainierte Modell zu testen.\n",
    "\n",
    "TODO:\n",
    "- Setze für train_size einen Wert zwischen 0.6 und 0.9 ein (4. Code-Block - Zeile 4)\n",
    "- Beispiel: Ein Wert von 0.8 bedeutet der Datensatz wird in 80% Trainingsdaten und 20% Testdaten unterteilt.\n",
    "- Ausführen des 4. Code-Blocks (markieren und \"Run\" drücken)\n",
    "\n",
    "AUSGABE:\n",
    "- Größe der Datensätze\n",
    "- Variablen in X und in y"
   ]
  },
  {
   "cell_type": "code",
   "execution_count": null,
   "metadata": {},
   "outputs": [],
   "source": [
    "# 4. Code-Block\n",
    "\n",
    "# Verhältnis Trainings- und Testdaten\n",
    "train_size = TODO\n",
    "\n",
    "# Teile Datensatz in Trainings- und Testdatensatz auf\n",
    "from sklearn.model_selection import train_test_split\n",
    "\n",
    "X_train, X_test, y_train, y_test = train_test_split(\n",
    "    df.drop(columns=[\"Lilienart\"]),\n",
    "    df[\"Lilienart\"],\n",
    "    test_size=(1 - train_size),\n",
    "    random_state=my_seed,\n",
    ")\n",
    "\n",
    "# Ausgabe Datensätze und Anzahl Datenpunkte\n",
    "print(\"\\nAnzahl Traingsdaten: \\t\" + str(len(y_train)) + \" / \" + str(len(df)))\n",
    "print(\"Anzahl Testdaten: \\t\" + str(len(y_test)) + \" / \" + str(len(df)))\n",
    "print(\"\\nX:\\t\" + str(list(X_train)))\n",
    "print(\"y:\\t[Lilienart]\\n\")"
   ]
  },
  {
   "cell_type": "markdown",
   "metadata": {},
   "source": [
    "### 4.1 Modelle bilden - Mögliche Hyperparameter anzeigen\n",
    "\n",
    "Vor der Erstellung eines Modells lassen wir uns zunächst alle einstellbaren Hyperparameter anzeigen.\n",
    "\n",
    "TODO:\n",
    "- Ausführen des 5. Code-Blocks (markieren und \"Run\" drücken)\n",
    "\n",
    "AUSGABE:\n",
    "- Mögliche Hyperparameter für die Erstellung des Linearen Modells"
   ]
  },
  {
   "cell_type": "code",
   "execution_count": null,
   "metadata": {},
   "outputs": [],
   "source": [
    "# 5. Code-Block\n",
    "\n",
    "# Ausgabe möglicher Hyperparameter\n",
    "from sklearn import tree\n",
    "\n",
    "tree.DecisionTreeClassifier().get_params()"
   ]
  },
  {
   "cell_type": "markdown",
   "metadata": {},
   "source": [
    "Beschreibung der Hyperparameter:\n",
    "http://scikit-learn.org/stable/modules/generated/sklearn.tree.DecisionTreeClassifier.html"
   ]
  },
  {
   "cell_type": "markdown",
   "metadata": {},
   "source": [
    "### 4.2 Modelle bilden - Modell erstellen und trainieren\n",
    "\n",
    "Aufstellen des untrainierten Modells, mögliche Hyperparameter sind:\n",
    "- max_Depth (maximale Tiefe des Baumes)\n",
    "- min_samples_leaf (minimale Anzahl an Datenpunkten pro Blatt)\n",
    "- max_leaf_nodes (maximale Anzahl an Blättern)\n",
    "\n",
    "Wähle selbst welche Hyperparameter du für dein Modell verwenden möchtest.\n",
    "\n",
    "TODO:\n",
    "- Setze die einzustellenden Hyperparameter in die Klammer hinter dem Modell, zu Begin kannst du auch ein Modell ohne Hyperparameter (Standardeinstellungen) erstellen (sprich TODO einfach löschen) (6. Code-Block - Zeile 4)\n",
    "- Setze immer den Hyperparameter random_state=my_seed ein (6. Code-Block - Zeile 4)\n",
    "- z.B. decision_tree = tree.DecisionTreeClassifier(random_state=my_seed, max_depth=5)\n",
    "- Setze die Trainingsdaten in den .fit-Befehle ein (X_train und y_train) (6. Code-Block - Zeile 7)\n",
    "- Ausführen des 6. Code-Blocks (markieren und \"Run\" drücken)\n",
    "\n",
    "\n",
    "AUSGABE:\n",
    "- trainierter Entscheidungsbaum"
   ]
  },
  {
   "cell_type": "code",
   "execution_count": null,
   "metadata": {},
   "outputs": [],
   "source": [
    "# 6. Code-Block\n",
    "\n",
    "# Erstellen des Modells\n",
    "clf = tree.DecisionTreeClassifier(random_state=my_seed, TODO)\n",
    "\n",
    "# Trainiere das Modell\n",
    "clf = clf.fit(TODO, TODO)\n",
    "\n",
    "# Ausgabe des trainierten Entscheidungsbaumes\n",
    "plt.figure(figsize=(16, 16))\n",
    "tree.plot_tree(clf, filled=True)\n",
    "plt.show()"
   ]
  },
  {
   "cell_type": "markdown",
   "metadata": {},
   "source": [
    "### 4.3 Modelle bilden - Bewertung des Trainings - Genauigkeit\n",
    "\n",
    "Wir berechnen die Genauigkeit des Modells auf den Trainingsdaten (richtige Vorhersagen/alle Vorhersagen).\n",
    "\n",
    "TODO:\n",
    "- Übergebe dem .score-Befehl X_train und y_train um die Genauigkeit auf den Trainingsdaten zu berechnen. (8. Code-Block - Zeile 4)\n",
    "- (Aus jeder Zeile des X_train wird die Vorhersage y_pred berechnet und diese mit dem Wert von y_train verglichen)\n",
    "- Ausführen des 8. Code-Blocks (markieren und \"Run\" drücken)\n",
    "\n",
    "AUSGABE:\n",
    "- Genauigkeit des Modells auf Trainingsdaten"
   ]
  },
  {
   "cell_type": "code",
   "execution_count": null,
   "metadata": {},
   "outputs": [],
   "source": [
    "# 8. Code-Block\n",
    "\n",
    "# Berechne Genauigkeit auf Trainingsdaten\n",
    "accuracy_train = clf.score(TODO, TODO)\n",
    "\n",
    "# Ausgabe der Modellgenauigkeit\n",
    "print(\n",
    "    \"\\nDas Modell hat auf den Trainingsdaten (\"\n",
    "    + str(len(y_train))\n",
    "    + \" Datenpunkte) eine Genauigkeit von \"\n",
    "    + str(\"%.3f\" % accuracy_train)\n",
    "    + \".\"\n",
    ")"
   ]
  },
  {
   "cell_type": "markdown",
   "metadata": {},
   "source": [
    "### 5. Validieren der Modelle - entfällt\n",
    "\n",
    "Dieser Schritt ist nur nötig wenn mehrere Modelle erstellt werden."
   ]
  },
  {
   "cell_type": "markdown",
   "metadata": {},
   "source": [
    "### 6.1 Modell testen & anwenden - Bewertung des Modells - Konfusionsmatrix\n",
    "\n",
    "Um die Modellgüte visuell darzustellen wird eine Wahrheitsmatrix erstellt.\n",
    "\n",
    "TODO:\n",
    "- Ausführen des 9. Code-Blocks (markieren und \"Run\" drücken)\n",
    "\n",
    "AUSGABE:\n",
    "- allgemeine und gemittelte Genauigkeit"
   ]
  },
  {
   "cell_type": "code",
   "execution_count": null,
   "metadata": {},
   "outputs": [],
   "source": [
    "# 9. Code-Block\n",
    "\n",
    "# Importieren der Funktion: Confusion matrix\n",
    "from sklearn.metrics import confusion_matrix\n",
    "import itertools\n",
    "\n",
    "# Erzeuge Matrix\n",
    "matrix = confusion_matrix(y_test, clf.predict(X_test)).transpose()\n",
    "labels = y_test.unique()\n",
    "plt.figure(figsize=(10, 6))\n",
    "plt.imshow(matrix, interpolation=\"nearest\", cmap=plt.cm.Blues)\n",
    "plt.title(\"Konfusionsmatrix auf Testdaten\")\n",
    "plt.ylabel(\"Vorhersage\")\n",
    "plt.xlabel(\"Realer Wert\")\n",
    "tick_marks = np.arange(len(labels))\n",
    "plt.xticks(tick_marks, labels, rotation=45)\n",
    "plt.yticks(tick_marks, labels)\n",
    "fmt = \"d\"\n",
    "thresh = matrix.max() / 2.0\n",
    "for i, j in itertools.product(range(matrix.shape[0]), range(matrix.shape[1])):\n",
    "    plt.text(\n",
    "        j,\n",
    "        i,\n",
    "        format(matrix[i, j], fmt),\n",
    "        horizontalalignment=\"center\",\n",
    "        color=\"white\" if matrix[i, j] > thresh else \"black\",\n",
    "    )\n",
    "plt.show()"
   ]
  },
  {
   "cell_type": "markdown",
   "metadata": {},
   "source": [
    "### 6.2 Modell testen & anwenden - Bewertung des Modells - Genauigkeit\n",
    "\n",
    "Wir berechnen die Genauigkeit des Modells auf den Testdaten (richtige Vorhersagen/alle Vorhersagen).\n",
    "\n",
    "TODO:\n",
    "- Übergebe dem .score-Befehl X_test und y_test um die Genauigkeit auf den Testdaten zu berechnen. (10. Code-Block - Zeile 4)\n",
    "- (Aus jeder Zeile des X_test wird eine Vorhersage berechnet und diese mit dem Wert von y_test verglichen)\n",
    "- Ausführen des 10. Code-Blocks (markieren und \"Run\" drücken)\n",
    "\n",
    "AUSGABE:\n",
    "- Genauigkeit des Modells auf Testdaten"
   ]
  },
  {
   "cell_type": "code",
   "execution_count": null,
   "metadata": {},
   "outputs": [],
   "source": [
    "# 10. Code-Block\n",
    "\n",
    "# Berechne Genauigkeit auf Testdaten\n",
    "accuracy_test = clf.score(TODO, TODO)\n",
    "\n",
    "# Ausgabe der Modellgenauigkeit\n",
    "print(\n",
    "    \"\\nDas Modell hat auf den Testdaten (\"\n",
    "    + str(len(y_test))\n",
    "    + \" Datenpunkte) eine Genauigkeit von \"\n",
    "    + str(\"%.3f\" % accuracy_test)\n",
    "    + \".\"\n",
    ")"
   ]
  },
  {
   "cell_type": "markdown",
   "metadata": {},
   "source": [
    "### 6.3 Modell testen & anwenden - Bewertung des Modells - falsche Vorhersagen\n",
    "\n",
    "Mit dem erstellten Modell wird eine Vorhersage für alle Testdaten berechnet und diese mit den realen Werten verglichen.\n",
    "\n",
    "TODO:\n",
    "- Setze X_test in die .predict-Funktion ein um eine Vorhersage für alle Testdaten zu berechnen (11. Code-Block - Zeile 5)\n",
    "- Ausführen des 11. Code-Blocks (markieren und \"Run\" drücken)\n",
    "\n",
    "AUSGABE:\n",
    "- Tabelle aller falschen Vorhersagen des Modells auf den Testdaten"
   ]
  },
  {
   "cell_type": "code",
   "execution_count": null,
   "metadata": {},
   "outputs": [],
   "source": [
    "# 11. Code-Block\n",
    "\n",
    "# Berechne Vorhersagen für Testdaten\n",
    "results_test = pd.DataFrame(y_test)\n",
    "results_test[\"Vorhersage\"] = clf.predict(TODO)\n",
    "\n",
    "# Ausgabe aller falschen Vorhersagen Trainingsdatensatz und Testdatensatz\n",
    "print(\n",
    "    \"\\nTestdaten - \"\n",
    "    + str(len(results_test[(results_test[\"Vorhersage\"] != results_test[\"Lilienart\"])]))\n",
    "    + \" falsche Vorhersage des Entscheidungsbaumes:\"\n",
    ")\n",
    "results_test[(results_test[\"Vorhersage\"] != results_test[\"Lilienart\"])]"
   ]
  },
  {
   "cell_type": "markdown",
   "metadata": {},
   "source": [
    "### 6.4 Modell testen & anwenden - Erkenntnisse aus dem Modell/Nutzen\n",
    "\n",
    "TODO:\n",
    "- Ausführen des 12. Code-Blocks (markieren und \"Run\" drücken)\n",
    "\n",
    "AUSGABE:\n",
    "- Einflussgröße der Variablen auf die Bauteilhärte"
   ]
  },
  {
   "cell_type": "code",
   "execution_count": null,
   "metadata": {},
   "outputs": [],
   "source": [
    "# 12. Code-Block\n",
    "\n",
    "# Ausgabe Graph: Wichtigkeit der Input-Variablen auf die Lilienart\n",
    "plt.figure(figsize=(16, 6))\n",
    "plt.bar(list(X_train), clf.feature_importances_, align=\"center\")\n",
    "plt.title(\"Einfluss der Variablen auf die Lilienart\")"
   ]
  },
  {
   "cell_type": "markdown",
   "metadata": {},
   "source": [
    "### 7. Visualisierung: Genauigkeit über der Baumtiefe und der Anzahl der Blätter \n",
    "\n",
    "TODO:\n",
    "- Ausführen des 13. Code-Blocks (markieren und \"Run\" drücken)\n",
    "- Doppelt ausführen damit die interaktive Grafik angezeigt wird\n",
    "\n",
    "AUSGABE:\n",
    "- Interaktive Darstellung der Genauigkeit über varrierenden Hyperparametern"
   ]
  },
  {
   "cell_type": "code",
   "execution_count": null,
   "metadata": {},
   "outputs": [],
   "source": [
    "# 13. Code-Block\n",
    "\n",
    "# Berechne Grid\n",
    "leafs = [2, 3, 4, 5, 6, 7, 8, 9, 10]\n",
    "depths = [2, 3, 4, 5, 6, 7, 8, 9, 10]\n",
    "\n",
    "# Berechne Genauigkeit je Gridpunkt\n",
    "x, y, z = [], [], []\n",
    "for leaf in leafs:\n",
    "    for depth in depths:\n",
    "\n",
    "        # Trainiere Modell & Berechne Vorhersage\n",
    "        clf = tree.DecisionTreeClassifier(\n",
    "            random_state=my_seed, max_leaf_nodes=leaf, max_depth=depth\n",
    "        )\n",
    "        clf = clf.fit(X_train, y_train)\n",
    "        results_ = pd.DataFrame(y_test)\n",
    "\n",
    "        # Berechne MAE\n",
    "        accuracy_test = clf.score(X_test, y_test)\n",
    "        x.append(leaf)\n",
    "        y.append(depth)\n",
    "        z.append(accuracy_test)\n",
    "X = np.asarray(x).reshape(9, 9)\n",
    "Y = np.asarray(y).reshape(9, 9)\n",
    "Z = np.asarray(z).reshape(9, 9)\n",
    "\n",
    "# Ausgabe\n",
    "%matplotlib notebook\n",
    "from mpl_toolkits.mplot3d import Axes3D\n",
    "import matplotlib.cm as cm\n",
    "\n",
    "fig = plt.figure(figsize=(14, 10))\n",
    "ax = fig.add_subplot(111, projection=\"3d\")\n",
    "plt.title(\n",
    "    \"Modell-Genauigkeit abhängig von der maximalen Anzahl an Blättern und der maximalen Tiefe des Baumes\"\n",
    ")\n",
    "plt.xlabel(\"maximale Anzahl an Blättern\")\n",
    "plt.ylabel(\"maximale Tiefe des Baumes\")\n",
    "surf = ax.plot_surface(X, Y, Z, cmap=cm.viridis, alpha=0.5, antialiased=False)\n",
    "fig.colorbar(surf, shrink=0.5, aspect=5)\n",
    "ax.view_init(35, 120)\n",
    "plt.show()"
   ]
  },
  {
   "cell_type": "markdown",
   "metadata": {},
   "source": [
    "### Verständnisfragen:\n",
    "\n",
    "1. Welche Input-Parameter haben die größte Wichtigkeit bei der Bestimmung der Lilienart?\n",
    "2. Welche Klasse von Schwertlilien lässt sich gut von den anderen 2 Klassen trennen? Welche Input-Variable reicht für diese Trennung aus? (Siehe Ausgabe von Punkt 2.2)\n",
    "3. Welche Tiefe und wie viele Blätter hat der genaueste von dir trainierte Entscheidungsbaum?\n",
    "4. Wieso kann die Genauigkeit eines Baumes mit einer maximalen Blattanzahl von 2 maximal 0.66 betragen?"
   ]
  },
  {
   "cell_type": "code",
   "execution_count": null,
   "metadata": {},
   "outputs": [],
   "source": []
  }
 ],
 "metadata": {
  "file_extension": ".py",
  "kernelspec": {
   "display_name": "Python 3",
   "language": "python",
   "name": "python3"
  },
  "language_info": {
   "codemirror_mode": {
    "name": "ipython",
    "version": 3
   },
   "file_extension": ".py",
   "mimetype": "text/x-python",
   "name": "python",
   "nbconvert_exporter": "python",
   "pygments_lexer": "ipython3",
   "version": "3.8.6"
  },
  "mimetype": "text/x-python",
  "name": "python",
  "npconvert_exporter": "python",
  "pygments_lexer": "ipython3",
  "version": 3
 },
 "nbformat": 4,
 "nbformat_minor": 2
}
